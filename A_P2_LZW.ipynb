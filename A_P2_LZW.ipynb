{
 "cells": [
  {
   "cell_type": "markdown",
   "id": "5411340e",
   "metadata": {},
   "source": [
    "# LZW\n",
    "\n",
    "- Uses fixed length codewords of 12 bits to compress a file.\n",
    "\n",
    "- I used a text file of the Bible as a test case (4.4MB). My implementation of this variant of LZW can compress it down to 2.1MB\n"
   ]
  },
  {
   "cell_type": "code",
   "execution_count": null,
   "id": "f7560448",
   "metadata": {},
   "outputs": [],
   "source": [
    "# This is the name of the file to be compressed.  \n",
    "# Yes, you can create your own test cases and you should.\n",
    "\n",
    "filename = \"bible.txt\""
   ]
  },
  {
   "cell_type": "markdown",
   "id": "62e5f2b6",
   "metadata": {},
   "source": [
    "# Compressor\n",
    "---"
   ]
  },
  {
   "cell_type": "code",
   "execution_count": 332,
   "id": "f3da3f06",
   "metadata": {},
   "outputs": [],
   "source": [
    "# you will compress the file named filename, and save the compressed as filename+\".lzw\"\n",
    "# keep the function name\n",
    "def LZW_compress(fname):\n",
    "\n",
    "    # Read file into content\n",
    "    with open(fname, 'r') as file:\n",
    "        content = file.read()\n",
    "\n",
    "    # initialize dictionary\n",
    "    dictSize = 256\n",
    "    dictionary = {chr(i): i for i in range(dictSize)}\n",
    "\n",
    "    # used to stop growing the dictionary past 12 bits\n",
    "    bitsPerWord = 12\n",
    "    maxDictSize = pow(2, bitsPerWord)\n",
    "\n",
    "    compressedData = []\n",
    "    codeword = \"\"\n",
    "\n",
    "    for character in content:\n",
    "        newCodeword = codeword + character\n",
    "        if newCodeword in dictionary:\n",
    "            codeword = newCodeword\n",
    "        else:\n",
    "            compressedData.append(dictionary[codeword])\n",
    "\n",
    "            # codewords must not exceed 12 bits for this part, so once we are at 2^12 - 1, stop adding to the dictionary.\n",
    "            if dictSize < maxDictSize:\n",
    "                dictionary[newCodeword] = dictSize\n",
    "                dictSize += 1\n",
    "            codeword = character\n",
    "\n",
    "    # handles the last code word\n",
    "    if codeword in dictionary:\n",
    "        compressedData.append(dictionary[codeword])\n",
    "\n",
    "    # TODO: This should get improved by implementating the same bit buffering technique I used to pack the bits in part II (tested and got it down to 2.1MB, would still need to synchronize decompression)\n",
    "    # Output the compressed file to \"filename.lzw\" \n",
    "    with open(fname.split('.')[0] + \".lzw\", 'wb') as file:\n",
    "        for c in compressedData:\n",
    "\n",
    "            # the binary integer needs to be 12 bits, packed into 16 bits, broken into two bytes\n",
    "            # So take the original integer and pad with leading 0's until its 16 bits long\n",
    "            # so A = 65 = 1000001 -> 1000001.zfill(16) -> 0000000001000001\n",
    "            binaryInt = int(bin(c)[2:].zfill(16), 2)\n",
    "            # Split the 16 bit binary int into two bytes\n",
    "            byte1 = (binaryInt >> 8) & 0xFF\n",
    "            byte2 = binaryInt & 0xFF\n",
    "            \n",
    "            # Pack those bytes together and write it\n",
    "            bytesToWrite = bytes([byte1, byte2])\n",
    "            file.write(bytesToWrite)\n",
    "\n",
    "# keep this line\n",
    "LZW_compress(filename)"
   ]
  },
  {
   "cell_type": "markdown",
   "id": "fe6ba388",
   "metadata": {},
   "source": [
    "# Decompressor\n",
    "---"
   ]
  },
  {
   "cell_type": "code",
   "execution_count": 333,
   "id": "9c1c9ee8",
   "metadata": {},
   "outputs": [],
   "source": [
    "# Custom function to convert bytes to a binary string\n",
    "def bytes_to_binary_string(byte_data):\n",
    "    return ''.join(format(byte, '08b') for byte in byte_data)\n",
    "\n",
    "def LZW_expand(fname):\n",
    "\n",
    "    # Building and initializing the dictionary.\n",
    "    dictSize = 256\n",
    "    dictionary = dict([(i, chr(i)) for i in range(dictSize)])\n",
    "\n",
    "    compressedData = []\n",
    "    decompressedData = \"\"\n",
    "    newCodeword = \"\"\n",
    "\n",
    "    # Open the file to read bytes\n",
    "    with open(fname.split('.')[0] + \".lzw\", \"rb\") as file:\n",
    "\n",
    "        while True:\n",
    "            # read in 2 bytes at a time, since one word is packaged using two bytes\n",
    "            compressed = file.read(2)\n",
    "\n",
    "            # check EOF\n",
    "            if len(compressed) == 0:\n",
    "                break\n",
    "        \n",
    "            # Convert the byte data to binary string\n",
    "            data = bytes_to_binary_string(compressed)\n",
    "\n",
    "            compressedData.append(int(data, 2))\n",
    "\n",
    "    # iterating through the codes\n",
    "    for code in compressedData:\n",
    "        if not (code in dictionary):\n",
    "            dictionary[code] = newCodeword + (newCodeword[0])\n",
    "            \n",
    "        decompressedData += dictionary[code]\n",
    "        if not(len(newCodeword) == 0):\n",
    "            dictionary[dictSize] = newCodeword + (dictionary[code][0])\n",
    "            dictSize += 1\n",
    "        newCodeword = dictionary[code]\n",
    "\n",
    "    # storing the decompressed newCodeword into a file.\n",
    "    with open(filename.split(\".\")[0] + \".2\", \"w\") as file:\n",
    "        for data in decompressedData:\n",
    "            file.write(data)\n",
    "  \n",
    "# keep this line \n",
    "LZW_expand(filename +\".lzw\")"
   ]
  },
  {
   "cell_type": "markdown",
   "id": "1112da7c",
   "metadata": {},
   "source": [
    "# Check equality of files\n",
    "---"
   ]
  },
  {
   "cell_type": "code",
   "execution_count": 334,
   "id": "54fcd386",
   "metadata": {},
   "outputs": [
    {
     "name": "stdout",
     "output_type": "stream",
     "text": [
      "The content of the files is identical.\n"
     ]
    }
   ],
   "source": [
    "# Check the original and uncompressed files against each other\n",
    "\n",
    "def compare_files(file_path1, file_path2):\n",
    "    with open(file_path1, 'rb') as file1, open(file_path2, 'rb') as file2:\n",
    "        content1 = file1.read()\n",
    "        content2 = file2.read()\n",
    "\n",
    "    return content1 == content2\n",
    "\n",
    "file1_path = filename\n",
    "file2_path = filename.split(\".\")[0] + \".2\"\n",
    "\n",
    "if compare_files(file1_path, file2_path):\n",
    "    print(\"The content of the files is identical.\")\n",
    "else:\n",
    "    print(\"The content of the files is different.\")"
   ]
  }
 ],
 "metadata": {
  "kernelspec": {
   "display_name": "Python 3 (ipykernel)",
   "language": "python",
   "name": "python3"
  },
  "language_info": {
   "codemirror_mode": {
    "name": "ipython",
    "version": 3
   },
   "file_extension": ".py",
   "mimetype": "text/x-python",
   "name": "python",
   "nbconvert_exporter": "python",
   "pygments_lexer": "ipython3",
   "version": "3.9.6"
  }
 },
 "nbformat": 4,
 "nbformat_minor": 5
}
