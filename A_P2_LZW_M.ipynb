{
 "cells": [
  {
   "cell_type": "markdown",
   "metadata": {},
   "source": [
    "# Modified LZW\n",
    "\n",
    "- Uses variable length codewords that range from 9 to 16 bits\n",
    "\n",
    "- Can compress a 4.4MB file down to 1.6MB"
   ]
  },
  {
   "cell_type": "code",
   "execution_count": 1,
   "metadata": {},
   "outputs": [],
   "source": [
    "# This is the name of the file to be compressed.  \n",
    "# Yes, you can create your own test cases and you should.\n",
    "\n",
    "filename = \"bible.txt\""
   ]
  },
  {
   "cell_type": "markdown",
   "metadata": {},
   "source": [
    "# Compressor\n",
    "---"
   ]
  },
  {
   "cell_type": "code",
   "execution_count": 2,
   "metadata": {},
   "outputs": [],
   "source": [
    "# keep the function name\n",
    "def LZW_modified_compress(fname):\n",
    "\n",
    "    # Read file into content\n",
    "    with open(fname, 'r') as file:\n",
    "        content = file.read()\n",
    "\n",
    "    # initialize dictionary\n",
    "    # gradual growth of codeword size will be dependent on dictSize.\n",
    "    dictSize = 256\n",
    "    dictionary = {chr(i): i for i in range(dictSize)}\n",
    "\n",
    "    codeword = \"\"\n",
    "    compressedData = []\n",
    "\n",
    "    currentWordSize = 9\n",
    "    maxDictSize = pow(2, 16)\n",
    "    maxWordSize = pow(2, currentWordSize)\n",
    "\n",
    "    for character in content:\n",
    "        newCodeword = codeword + character\n",
    "        if newCodeword in dictionary:\n",
    "            codeword = newCodeword\n",
    "        else:\n",
    "            compressedData.append(bin(dictionary[codeword])[2:].zfill(currentWordSize))\n",
    "            \n",
    "            # codewords must not exceed 16 bits for this part, so once we are at 2^16 - 1, stop adding to the dictionary.\n",
    "            if dictSize < maxDictSize - 1:\n",
    "                dictionary[newCodeword] = dictSize\n",
    "                dictSize += 1\n",
    "                if dictSize > maxWordSize:\n",
    "                    currentWordSize += 1\n",
    "                    maxWordSize *= 2\n",
    "            codeword = character\n",
    "\n",
    "    if codeword in dictionary:\n",
    "        compressedData.append(bin(dictionary[codeword])[2:].zfill(currentWordSize))\n",
    "\n",
    "    bitBuffer = \"\"\n",
    "    # Output the compressed file to \"filename.lzw\" \n",
    "    with open(fname.split('.')[0] + \".lzw2\", 'wb') as file:\n",
    "        for c in compressedData:\n",
    "            for b in c:\n",
    "                bitBuffer += b\n",
    "                if len(bitBuffer) == 8:\n",
    "                    bufferInt = int(bitBuffer, 2)\n",
    "                    byteToWrite = bytes([bufferInt])\n",
    "                    file.write(byteToWrite)\n",
    "                    bitBuffer = \"\"\n",
    "\n",
    "        # not all bits will come out to fit into a byte. Oftentimes the bit buffer will have bits left over\n",
    "        # this writes what's left in the bit buffer, pads it and reverses it... The way things get synchronized when decompressing, these bits are automatically pulled out and added to the last codeword\n",
    "        byteToWrite = int(bitBuffer.zfill(8)[::-1], 2).to_bytes(1, byteorder='big', signed=False)\n",
    "        file.write(byteToWrite)\n",
    "\n",
    "# keep this line    \n",
    "LZW_modified_compress(filename)"
   ]
  },
  {
   "cell_type": "markdown",
   "metadata": {},
   "source": [
    "# Decompressor\n",
    "---"
   ]
  },
  {
   "cell_type": "code",
   "execution_count": 3,
   "metadata": {},
   "outputs": [],
   "source": [
    "# Custom function to convert bytes to a binary string\n",
    "def bytes_to_binary_string(byte_data):\n",
    "    return ''.join(format(byte, '08b') for byte in byte_data)\n",
    "\n",
    "# keep the function name\n",
    "def LZW_modified_expand(fname):\n",
    "\n",
    "    # Reconstruct the dictionary used during compression\n",
    "    dictSize = 256\n",
    "    dictionary = {i: chr(i) for i in range(dictSize)}\n",
    "\n",
    "    decompressedData = \"\"\n",
    "\n",
    "    currentWordSize = 9\n",
    "    maxWordSize = pow(2, currentWordSize)\n",
    "    maxDictSize = pow(2, 16)\n",
    "    bitBuffer = \"\"\n",
    "    newCodeword = \"\"\n",
    "\n",
    "    with open(fname.split('.')[0] + \".lzw2\", 'rb') as file:\n",
    "\n",
    "        while True:\n",
    "            compressedData = file.read(1)\n",
    "\n",
    "            if len(compressedData) == 0:\n",
    "                break\n",
    "\n",
    "            compressedData = bytes_to_binary_string(compressedData)\n",
    "\n",
    "            for c in compressedData:\n",
    "                for b in c:\n",
    "                    bitBuffer += b\n",
    "                    if len(bitBuffer) == currentWordSize:\n",
    "                    \n",
    "                        code = int(bitBuffer, 2)\n",
    "\n",
    "                        if not (code in dictionary):\n",
    "                            dictionary[code] = newCodeword + (newCodeword[0])\n",
    "                            \n",
    "                        decompressedData += dictionary[code]\n",
    "\n",
    "                        if not(len(newCodeword) == 0) and dictSize < maxDictSize - 1:\n",
    "                            dictionary[dictSize] = newCodeword + (dictionary[code][0])\n",
    "                            dictSize += 1\n",
    "                            if dictSize >= maxWordSize:\n",
    "                                currentWordSize += 1\n",
    "                                maxWordSize *= 2\n",
    "                        newCodeword = dictionary[code]\n",
    "\n",
    "                        bitBuffer = \"\"\n",
    "\n",
    "    # Write the decompressed data to a new file\n",
    "    with open(fname.split('.')[0] + \".2M\", 'w') as file:\n",
    "        for d in decompressedData:\n",
    "            file.write(d)\n",
    "    \n",
    "# keep this line    \n",
    "LZW_modified_expand(filename+\".lzw2\")"
   ]
  },
  {
   "cell_type": "markdown",
   "metadata": {},
   "source": [
    "# Check equality of files\n",
    "---"
   ]
  },
  {
   "cell_type": "code",
   "execution_count": 4,
   "metadata": {},
   "outputs": [
    {
     "name": "stdout",
     "output_type": "stream",
     "text": [
      "The content of the files is identical.\n"
     ]
    }
   ],
   "source": [
    "def compare_files(file_path1, file_path2):\n",
    "    with open(file_path1, 'rb') as file1, open(file_path2, 'rb') as file2:\n",
    "        content1 = file1.read()\n",
    "        content2 = file2.read()\n",
    "\n",
    "    return content1 == content2\n",
    "\n",
    "file1_path = filename\n",
    "file2_path = filename.split(\".\")[0] + \".2M\"\n",
    "\n",
    "if compare_files(file1_path, file2_path):\n",
    "    print(\"The content of the files is identical.\")\n",
    "else:\n",
    "    print(\"The content of the files is different.\")"
   ]
  }
 ],
 "metadata": {
  "kernelspec": {
   "display_name": "Python 3",
   "language": "python",
   "name": "python3"
  },
  "language_info": {
   "codemirror_mode": {
    "name": "ipython",
    "version": 3
   },
   "file_extension": ".py",
   "mimetype": "text/x-python",
   "name": "python",
   "nbconvert_exporter": "python",
   "pygments_lexer": "ipython3",
   "version": "3.9.6"
  }
 },
 "nbformat": 4,
 "nbformat_minor": 2
}
